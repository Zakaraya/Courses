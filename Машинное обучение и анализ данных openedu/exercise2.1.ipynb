{
 "cells": [
  {
   "cell_type": "code",
   "execution_count": 14,
   "id": "23e83b52",
   "metadata": {},
   "outputs": [],
   "source": [
    "import pandas as pd\n",
    "import numpy as np\n",
    "from sklearn.decomposition import PCA\n",
    "import matplotlib\n",
    "import matplotlib.pyplot as plt"
   ]
  },
  {
   "cell_type": "code",
   "execution_count": 19,
   "id": "1d4438ad",
   "metadata": {},
   "outputs": [],
   "source": [
    "X = pd.read_csv('7_36.csv', header=None)"
   ]
  },
  {
   "cell_type": "markdown",
   "id": "6670b441",
   "metadata": {},
   "source": [
    "Координаты первого объекта относительно главных компонент."
   ]
  },
  {
   "cell_type": "code",
   "execution_count": 42,
   "id": "422d645d",
   "metadata": {
    "scrolled": true
   },
   "outputs": [
    {
     "data": {
      "text/plain": [
       "array([-1.42790309e+01, -1.63932225e+01, -2.32215849e+01, -1.29385197e+01,\n",
       "       -6.18989347e+00,  1.08971357e+00, -1.27563838e+00, -4.50180420e-03,\n",
       "       -6.74475855e-01,  5.58473950e-01])"
      ]
     },
     "execution_count": 42,
     "metadata": {},
     "output_type": "execute_result"
    }
   ],
   "source": [
    "pca = PCA(n_components=10, svd_solver='full') #Создание объекта класса PCA. В качестве параметров выступает количество ГК и метод оптимизации\n",
    "X_transformed = pca.fit(X).transform(X) #X_transformed -- ndarray объектов, где каждый объект описывается двумя ГК\n",
    "X_transformed[0]"
   ]
  },
  {
   "cell_type": "code",
   "execution_count": 43,
   "id": "451aa987",
   "metadata": {
    "scrolled": true
   },
   "outputs": [
    {
     "data": {
      "text/plain": [
       "[<matplotlib.lines.Line2D at 0x18f4d3117c0>]"
      ]
     },
     "execution_count": 43,
     "metadata": {},
     "output_type": "execute_result"
    },
    {
     "data": {
      "image/png": "[encoded data removed]",
      "text/plain": [
       "<Figure size 432x288 with 1 Axes>"
      ]
     },
     "metadata": {
      "needs_background": "light"
     },
     "output_type": "display_data"
    }
   ],
   "source": [
    "plt.plot(X_transformed[:101, 0], X_transformed[:101, 1], 'o', markerfacecolor='red', markeredgecolor='k', markersize=8)"
   ]
  },
  {
   "cell_type": "markdown",
   "id": "6f915a16",
   "metadata": {},
   "source": [
    "Найдем долю объясненной дисперсии в зависимости от количества используемых ГК."
   ]
  },
  {
   "cell_type": "code",
   "execution_count": 44,
   "id": "3db4e4e8",
   "metadata": {
    "scrolled": true
   },
   "outputs": [
    {
     "data": {
      "text/plain": [
       "array([0.365, 0.654, 0.874, 0.945, 0.994, 0.996, 0.997, 0.999, 0.999,\n",
       "       1.   ])"
      ]
     },
     "execution_count": 44,
     "metadata": {},
     "output_type": "execute_result"
    }
   ],
   "source": [
    "explained_variance = np.round(np.cumsum(pca.explained_variance_ratio_),3)\n",
    "explained_variance"
   ]
  },
  {
   "cell_type": "markdown",
   "id": "4fc3fdd4",
   "metadata": {},
   "source": [
    "Построим график зависимости доли объясненной дисперсии от количества используемых ГК. Подробный описание произведено в лекции."
   ]
  },
  {
   "cell_type": "code",
   "execution_count": 45,
   "id": "ad8fde01",
   "metadata": {
    "scrolled": true
   },
   "outputs": [
    {
     "data": {
      "text/plain": [
       "[<matplotlib.lines.Line2D at 0x18f4d379b20>]"
      ]
     },
     "execution_count": 45,
     "metadata": {},
     "output_type": "execute_result"
    },
    {
     "data": {
      "image/png": "[encoded data removed]",
      "text/plain": [
       "<Figure size 432x288 with 1 Axes>"
      ]
     },
     "metadata": {
      "needs_background": "light"
     },
     "output_type": "display_data"
    }
   ],
   "source": [
    "plt.plot(np.arange(10), explained_variance, ls = '-')"
   ]
  }
 ],
 "metadata": {
  "kernelspec": {
   "display_name": "Python 3 (ipykernel)",
   "language": "python",
   "name": "python3"
  },
  "language_info": {
   "codemirror_mode": {
    "name": "ipython",
    "version": 3
   },
   "file_extension": ".py",
   "mimetype": "text/x-python",
   "name": "python",
   "nbconvert_exporter": "python",
   "pygments_lexer": "ipython3",
   "version": "3.9.6"
  }
 },
 "nbformat": 4,
 "nbformat_minor": 5
}
